{
 "cells": [
  {
   "cell_type": "code",
   "execution_count": null,
   "id": "da6319dc",
   "metadata": {},
   "outputs": [],
   "source": []
  },
  {
   "cell_type": "code",
   "execution_count": null,
   "id": "3343f70d",
   "metadata": {},
   "outputs": [],
   "source": []
  },
  {
   "cell_type": "code",
   "execution_count": 1,
   "id": "c7ba0f64",
   "metadata": {},
   "outputs": [],
   "source": [
    "import requests\n",
    "from bs4 import BeautifulSoup\n",
    "import csv\n",
    "import re\n",
    "import json\n",
    "from os import path\n"
   ]
  },
  {
   "cell_type": "code",
   "execution_count": 2,
   "id": "bd149540",
   "metadata": {},
   "outputs": [],
   "source": [
    "url = 'https://www.carriermideaindia.com/store-locator.aspx'\n",
    "head = {\"User-Agent\": \"Mozilla/5.0 (Windows NT 10.0; Win64; x64; rv:103.0) Gecko/20100101 Firefox/103.0\",\n",
    "        \"Accept\": \"application/json, text/plain, */*\",\n",
    "        \"Accept-Language\": \"en-US,en;q=0.5\",\n",
    "        \"Accept-Encoding\": \"gzip, deflate, br\",\n",
    "        \"Origin\": \"https://www.ushapumps.com\",\n",
    "        \"Connection\": \"keep-alive\",\n",
    "        \"Referer\": \"https://www.ushapumps.com/\",\n",
    "        \"Sec-Fetch-Dest\": \"empty\",\n",
    "        \"Sec-Fetch-Mode\": \"cors\",\n",
    "        \"Sec-Fetch-Site\": \"same-site\"}\n",
    "\n",
    "req = requests.get(url,headers=head)\n",
    "soup = BeautifulSoup(req.text,'html.parser')"
   ]
  },
  {
   "cell_type": "code",
   "execution_count": null,
   "id": "f349c294",
   "metadata": {},
   "outputs": [],
   "source": []
  },
  {
   "cell_type": "code",
   "execution_count": 5,
   "id": "360a4a16",
   "metadata": {},
   "outputs": [
    {
     "name": "stdout",
     "output_type": "stream",
     "text": [
      "------------------state---------------------------------------- 0\n",
      "Andhra Pradesh\n"
     ]
    }
   ],
   "source": [
    "st = soup.find(attrs={'id':'ContentPlaceHolder1_ddlstate'}).findAll('option')\n",
    "for number,i in enumerate(st[1:2]):\n",
    "    print('------------------state----------------------------------------',number)\n",
    "    state = i.get('value').strip()\n",
    "    print(state)\n",
    "    "
   ]
  },
  {
   "cell_type": "code",
   "execution_count": null,
   "id": "b1ba56b1",
   "metadata": {},
   "outputs": [],
   "source": [
    "{\"ctl00$ContentPlaceHolder1$ScriptManager1\":\"ctl00$ContentPlaceHolder1$UpdatePanel1|ctl00$ContentPlaceHolder1$ddlstate\",\n",
    "\"__EVENTTARGET\":\"ctl00$ContentPlaceHolder1$ddlstate\",\n",
    "\"__EVENTARGUMENT\":\"\",\n",
    "\"__LASTFOCUS\":\"\",\n",
    "\"__VIEWSTATE\":\"kC1IuZ48yhHlBvk0b0+T2dcGy684201FCdh3kqsuQr1hACJmoTy94kSM6aMYjDwwoM4ikPqZEA4dXiJ9SR9CCa0C5EwQr/76Y3/koE8M/95lXy9SzyXA5wOF0WSE0aN6XgAFVaZs6j8c37GR6k9CMMoTtoc9HFObBjkc+YRK43EJS8bmfvxvTfXn+q6B59fqNsEGQonlnLkixqShFE5WxiN5g+qJJrESan3gpcD4X/wsT+Ty7gdoO563VSVP5JDQrkl/IFmqsIaUEgizkF92QvbQE/ocxNGwsuWRW2hhmJirER7Bq3dr/iCeHcbSriXqXsOLE8oghN4clmf9CuA680zbM2xJWjSbGFqu/WG7ZV9mAB8zq/poQy7POn3vaLcy5s/9NFq+bdYCd1ujMR142gESqh7B1vkLoGufWLSCr/3Rm0PbFxFOJ+DdPdSaTgcOAqF63Gof8vY8kcygFWk90Cg4e0sz3VehuwqHw4Pz4VAyPHOJ6QE6f+piFBnMe0XG…cUXmgDHtSaiwH37S+pkyo9nhTrGio9UW/omkTbEOQY+yaJWchCcfBtQrlf6+xxVCJ1Q7Qq7Qipj5gsHL9mrMq2UFlDhk05iClsrmeRdjeYnvLJVHcARfmVWxBO6DtE22N1h+oLhvfUph6YGCJxlQEFOATy99gwNto7+hVGwDOmaExpenZh5OdGF0R6pYfQ9UnT9PtCxr83l8/s3ZtFjzJ2aIcLwhlGDCpLiwyoayrUY+cufrCt5e6609+BKu253Cxroj0tf2IOKFtt1MH7bPQw7A6DNi02ZrviVIC3uLUnFiz6H/51Le+W4VFlriy247IybQNffyAwhDZKd5Qg/Ykoce5IxGh6dCmmZF0P5TvnXxSUyhXEr2ul0/5bUzQl+ygjK7s3NTkEs+EKZDyU0zMrwRg3nJRX2VEQcxr+9FzxL5e1Ec8+TmR5aWi97ejyiKPSt2FsFD9VoFn2oqgw+wwatNm13HXXp7tYPJAeRKLwvCvwfz5KeTkhros7bWw==\",\n",
    "\"__VIEWSTATEGENERATOR\":\"28052661\",\n",
    "\"__EVENTVALIDATION\":\"k/4yOICwLMH3ZFyPmRsLTOmniECDY0IeyvilO7ZnWZImbqEl7FAdpiQO4scld/OS0doML0497I4Ha7cSlqT7H9KPJZM0gdX8aEBc0+4jUX8McA8RjjS1/ldxo89kfdnsWrAzmq1bBdQoDRur1RiC/R0+gRdmWDB1TDOwa+JmLfZqHKEms3ivUcljQpkE7GGhup3w3cYXSAwxOFKMY2Delu2gVXtMI60GWrXSQtpRLdjDc0TxkW0ugVYtzsSAmp3TwqIg/w311NifzKmzoe+OGA0LEOtIOhD5VvjYP12azCYuoicdbvkFTWfxnWcsWh8zLXW9oqQFGK7sVavrbfjUw99p2PnCsO/iS2ISSKfsOMLbAVGFgtpZEE+h586FA+XN/RSwV7+Z5/icTYk/RM9XVt6Zp5sH6eZnVIAbbr+GK5Lem7O70Ih1N7F5tz4/7Tpb+q+HsQlCFYTxlTHg2m0tjFcKwRXPveveyqBfJJJV/4x2CEXEwlg6FwE5tbN0+t1QB1q92+bFVAoF5hWHzrBt5UN896Eo+h0cWKB7W1aY25lxtXb8TK06APu2TaPHIKlUGMz02vNMNr1/qsKQLaRCs1iJwKVZVDHKmqRxVs4TYU4X9VoGwhU5x5qbkta6qzDYGsnDlijcrc0SyS0A5sozIw2T+FzYMZI6m9QoGpKH3dPIRqBhJkvaeQS5Cxe5z+w4a9UQcUva51u5BK6YVxYItSNMou1WuBw8ux1W+EMlvm7d5R38l6EXkoZECbo1Q2eRnekQwqKnMJohEeEUCa4Oq7iOr7s7dDuYHmI4b7Wi/pYitK3GNk1h6v2a007/UC6+WuK77ZlfZ9HzQZ0/4hxWUByiDskA4YJajFn6SkgZ1ETCNzxY0ch3dYbpaz+DUxiUmGnLjxNBlehEiVww0OPrwQ==\",\n",
    "\"ctl00$txtsearch\":\"\",\n",
    "\"ctl00$ContentPlaceHolder1$ddlstate\":\"Andhra Pradesh\",\n",
    "\"ctl00$ContentPlaceHolder1$ddlcity\":\"Select\",\n",
    "\"ctl00$ContentPlaceHolder1$ddlbrand2\":\"Select\",\n",
    "\"__ASYNCPOST\":\"true\",\n",
    "}"
   ]
  },
  {
   "cell_type": "code",
   "execution_count": null,
   "id": "a6392d34",
   "metadata": {},
   "outputs": [],
   "source": []
  }
 ],
 "metadata": {
  "kernelspec": {
   "display_name": "Python 3",
   "language": "python",
   "name": "python3"
  },
  "language_info": {
   "codemirror_mode": {
    "name": "ipython",
    "version": 3
   },
   "file_extension": ".py",
   "mimetype": "text/x-python",
   "name": "python",
   "nbconvert_exporter": "python",
   "pygments_lexer": "ipython3",
   "version": "3.8.8"
  }
 },
 "nbformat": 4,
 "nbformat_minor": 5
}
